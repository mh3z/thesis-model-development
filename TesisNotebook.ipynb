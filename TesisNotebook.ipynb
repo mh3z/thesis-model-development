{
 "cells": [
  {
   "cell_type": "markdown",
   "id": "0ba24ec6",
   "metadata": {},
   "source": [
    "<hr style = \"background-color: darkcyan; width:80%; text-align:center; height:5px\">\n",
    "    <h1 style = \"color : darkcyan; text-align:center;\">\n",
    "         Procesamiento de datos y entrenamiento del modelo\n",
    "    <h1/>\n",
    "<hr style = \"background-color: darkcyan; width:80%; text-align:center; height:5px\">"
   ]
  },
  {
   "cell_type": "markdown",
   "id": "bdc2f5e8",
   "metadata": {},
   "source": [
    "<h1 style = \"color : darkcyan; text-align:left;\">\n",
    "   1) Configuraciones y definiciones iniciales\n",
    "<h1/>"
   ]
  },
  {
   "cell_type": "markdown",
   "id": "cc659209",
   "metadata": {},
   "source": [
    "#### Importamos modulos y librerias necesarias."
   ]
  },
  {
   "cell_type": "code",
   "execution_count": 1,
   "id": "11ee22fa",
   "metadata": {},
   "outputs": [],
   "source": [
    "import pathlib\n",
    "import pyprind\n",
    "import PIL\n",
    "import numpy as np\n",
    "import pandas as pd\n",
    "import tensorflow as tf\n",
    "import seaborn as sns\n",
    "import matplotlib.pyplot as plt\n",
    "from typing import Dict , List\n",
    "from tensorflow.python.client import device_lib\n",
    "from termcolor import cprint\n",
    "%load_ext tensorboard"
   ]
  },
  {
   "cell_type": "markdown",
   "id": "e477da0d",
   "metadata": {},
   "source": [
    "#### Obtenemos informacion sobre las GPU's del equipo, ademas establecemos aumento de la vram segun corresponda."
   ]
  },
  {
   "cell_type": "code",
   "execution_count": 2,
   "id": "c6991777",
   "metadata": {},
   "outputs": [],
   "source": [
    "physical_devices = tf.config.list_physical_devices('GPU')\n",
    "\n",
    "tf.config.experimental.set_memory_growth(physical_devices[0], True)"
   ]
  },
  {
   "cell_type": "markdown",
   "id": "ddc6577d",
   "metadata": {},
   "source": [
    "#### Verificamos la aceleracion por GPU de tensorflow y seleccionamos la GPU dedicada."
   ]
  },
  {
   "cell_type": "code",
   "execution_count": 3,
   "id": "8cc70b6b",
   "metadata": {},
   "outputs": [
    {
     "name": "stdout",
     "output_type": "stream",
     "text": [
      "\u001b[32mDefault GPU Device:  name: NVIDIA GeForce RTX 3060\u001b[0m\n"
     ]
    }
   ],
   "source": [
    "if tf.test.gpu_device_name():\n",
    "    \n",
    "    gpu = device_lib.list_local_devices()[1]\n",
    "    \n",
    "    cprint('Default GPU Device: {}'.format(gpu.physical_device_desc.split(\",\")[1]),color = \"green\")\n",
    "    \n",
    "else:\n",
    "    \n",
    "    cprint(\"Please install GPU version of TF\",color = \"red\")"
   ]
  },
  {
   "cell_type": "markdown",
   "id": "503ebbb5",
   "metadata": {},
   "source": [
    "#### Desplegamos informacion del dataset leyendo el archivo README.txt"
   ]
  },
  {
   "cell_type": "code",
   "execution_count": 4,
   "id": "e4ce147f",
   "metadata": {},
   "outputs": [
    {
     "name": "stdout",
     "output_type": "stream",
     "text": [
      "\u001b[32m\n",
      "--------------------\n",
      "DATASET INFORMATION:\n",
      "--------------------\n",
      "    \u001b[0m\n",
      "\u001b[32m### Description ###\n",
      "A team of Researchers from Quatar University, Doha and Dhaka University along with their connections from Pakistan, Malaysia, in collaboration with doctors, have created the primary dataset with 4 classes(COVID-19, Lung-Opacity, Normal and Viral Pneumonia). The primary dataset has been collected from the Kaggle (COVID-19 Radiography Database [1]). We have added some more contents of Pneumonia and COVID-19 with it from various online resources [2, 3, 4, 5]. Our research work has added one more class with Tuberculosis with the 4 class dataset. We have removed the lateral view Chest X rays and added only the frontal view to the dataset.  The final dataset created using [1, 2 ,3 ,4, 5, 6, 7] has formed a 5 class chest X ray dataset with infectious respiratory diseases. \n",
      "\n",
      "### Class Distribution ###\n",
      "This dataset is a combination of COVID-19, Lung-Opacity, Normal, Viral Pneumonia and Tuberculosis classes.\n",
      "---------------------------------------\n",
      "Class Name: Number of samples : Labels\n",
      "---------------------------------------\n",
      "COVID-19 :  4,189 : 0\n",
      "Lung-Opacity : 6,012 : 1\n",
      "Normal : 10,192 : 2\n",
      "Viral Pneumonia : 7,397 : 3\n",
      "Tuberculosis : 4,897 : 4\n",
      "------------------------------\n",
      "Total : 32,687\n",
      "------------------------------\n",
      "\n",
      "### Splits ###\n",
      "Splitted into Train, Test and Validation.\n",
      "\n",
      "### Files Description ###\n",
      "Each of the .npz files contains a Python dictionary with three keys namely \"image\", \"image_name\", and \n",
      "\"image_label\" respectively. The value corresponding to the key \"image\" is a 4D Numpy array of all image pixel intensity values.\n",
      "As the name suggests, The value corresponding to the key \"image_name\" is a numpy array of strings (actual image name) and \n",
      "the value corresponding to the key \"image_label\" is a numpy array of integers (0, 1, 2, 3, or 4).\n",
      "\n",
      "### Citation ###\n",
      "Please cite this following articles is you are using this dataset:\n",
      "TBD\n",
      "\n",
      "### Reference ###\n",
      "\n",
      "[1]https://www.kaggle.com/tawsifurrahman/covid19-radiography-database\n",
      "[2]https://github.com/agchung/Actualmed-COVID-chestxray-datase\n",
      "[3]https://github.com/agchung/Figure1-COVID-chestxray-dataset\n",
      "[4]https://www.kaggle.com/c/rsna-pneumonia-detection-challenge/data\n",
      "[5]https://www.kaggle.com/tawsifurrahman/tuberculosis-tb-chest-xray-dataset\n",
      "[6]https://www.kaggle.com/raddar/tuberculosis-chest-xrays-shenzhen\n",
      "[7]https://openi.nlm.nih.gov/faq#collection\n",
      "\n",
      "### License ###\n",
      "\n",
      "The dataset follows from the licenses of the original components.\u001b[0m\n"
     ]
    }
   ],
   "source": [
    "with open(file = r\"D:\\Dataset\\README.txt\",mode = \"r\")  as file:\n",
    "    \n",
    "    cprint(\"\"\"\n",
    "--------------------\n",
    "DATASET INFORMATION:\n",
    "--------------------\n",
    "    \"\"\",color = \"green\")\n",
    "    \n",
    "    cprint(file.read(),color = \"green\")"
   ]
  },
  {
   "cell_type": "markdown",
   "id": "27947dae",
   "metadata": {},
   "source": [
    "#### Creamos una lista que contenga todas las clases definidas en el README."
   ]
  },
  {
   "cell_type": "code",
   "execution_count": 5,
   "id": "a6c679eb",
   "metadata": {},
   "outputs": [],
   "source": [
    "classes : List = [\"COVID-19\",\"Lung-Opacity\",\"Normal\",\"Viral Pneumonia\",\"Tuberculosis\"]"
   ]
  },
  {
   "cell_type": "markdown",
   "id": "3c660205",
   "metadata": {},
   "source": [
    "#### Creamos diccionario en el cual se almacenan las rutas de los conjuntos de entrenamiento, validacion y prueba."
   ]
  },
  {
   "cell_type": "code",
   "execution_count": 6,
   "id": "33a492cd",
   "metadata": {},
   "outputs": [],
   "source": [
    "data_paths : Dict  = {\"training\":r\"D:\\tesis_dataset\\Dataset5_raw_train.npz\",\n",
    "                      \"validation\": r\"D:\\tesis_dataset\\Dataset5_raw_val.npz\",\n",
    "                      \"testing\":r\"D:\\tesis_dataset\\Dataset5_raw_test.npz\"}"
   ]
  },
  {
   "cell_type": "markdown",
   "id": "c04e32e1",
   "metadata": {},
   "source": [
    "#### Leemos la data con np.load() de manera que podemos leer correctamente los archivos .npz, en donde estan contenidos diccionarios de python con la data."
   ]
  },
  {
   "cell_type": "code",
   "execution_count": 7,
   "id": "20fc56aa",
   "metadata": {},
   "outputs": [],
   "source": [
    "train  = np.load(data_paths[\"training\"])\n",
    "\n",
    "val  = np.load(data_paths[\"validation\"])\n",
    "\n",
    "test = np.load(data_paths[\"testing\"])"
   ]
  },
  {
   "cell_type": "markdown",
   "id": "a4ef3a11",
   "metadata": {},
   "source": [
    "#### Se crea una funcion que obtengos la data correspondiente a las imagenes desde los diccionarios y las guardamos con el nombre de la clase a la que pertenece, de manera que creamos un dataset de imagenes y no de diccionarios."
   ]
  },
  {
   "cell_type": "code",
   "execution_count": 8,
   "id": "bd7918bb",
   "metadata": {},
   "outputs": [],
   "source": [
    "def to_images(subset,subset_name,labels) -> None:\n",
    "    \n",
    "    base_path : str = \"D:\\Dataset\"\n",
    "    \n",
    "    bar = pyprind.ProgBar(len(subset[\"image_label\"]))\n",
    "    \n",
    "    for arr, label, name in zip(subset[\"image\"],subset[\"image_label\"],subset[\"image_name\"]):\n",
    "\n",
    "        img = PIL.Image.fromarray((arr).astype(np.uint8))\n",
    "\n",
    "        img.save(f\"{base_path}/{subset_name}/{labels[int(label)]}/{name[0]}\")\n",
    "        \n",
    "        bar.update()"
   ]
  },
  {
   "cell_type": "markdown",
   "id": "caed11c7",
   "metadata": {},
   "source": [
    "#### Se genera el dataset con el subscript definido en la funcion to_images y finalmente, de forma manual, se eliminan  imagenes que presentan una distribucion distinta de la normal, para evitar el underfitting."
   ]
  },
  {
   "cell_type": "code",
   "execution_count": 9,
   "id": "7f017d64",
   "metadata": {},
   "outputs": [
    {
     "name": "stderr",
     "output_type": "stream",
     "text": [
      "0% [##############################] 100% | ETA: 00:00:00\n",
      "Total time elapsed: 00:20:02\n",
      "0% [##############################] 100% | ETA: 00:00:00\n",
      "Total time elapsed: 00:04:36\n",
      "0% [##############################] 100% | ETA: 00:00:00\n",
      "Total time elapsed: 00:04:03\n"
     ]
    }
   ],
   "source": [
    "to_images(train,\"training\",classes)\n",
    "to_images(val,\"validation\",classes)\n",
    "to_images(test,\"test\",classes)"
   ]
  },
  {
   "cell_type": "markdown",
   "id": "e62718d8",
   "metadata": {},
   "source": [
    "<h1 style = \"color : darkcyan; text-align:left;\">\n",
    "   2) Preprocesamiento y analisis de los datos\n",
    "<h1/>"
   ]
  },
  {
   "cell_type": "markdown",
   "id": "8f15eb71",
   "metadata": {},
   "source": [
    "####  Se define una funcion que crea un dataframe por  cada conjunto de datos, y asi poder visualizar la distribucion de las clases."
   ]
  },
  {
   "cell_type": "code",
   "execution_count": 9,
   "id": "5ee9d562",
   "metadata": {},
   "outputs": [],
   "source": [
    "def to_dataframe(k_set) -> pd.DataFrame :\n",
    "    \n",
    "    idx : List = [i for i in range(k_set[\"image_name\"].shape[0])]\n",
    "\n",
    "    data : pd.DataFrame = pd.DataFrame(columns = [\"name\"],\n",
    "                                       data = k_set[\"image_name\"],\n",
    "                                       index = pd.Index(idx))\n",
    "\n",
    "    data[\"label\"] = k_set[\"image_label\"]\n",
    "    \n",
    "    data[\"classes\"] = data[\"label\"].apply(lambda x: classes[int(x)])\n",
    "    \n",
    "    \n",
    "    return data"
   ]
  },
  {
   "cell_type": "markdown",
   "id": "f6f21541",
   "metadata": {},
   "source": [
    "#### Generamos los dataframe y  aplicamos un shuffle para que se reordene la data de forma aleatoria."
   ]
  },
  {
   "cell_type": "code",
   "execution_count": 10,
   "id": "38d474ac",
   "metadata": {},
   "outputs": [
    {
     "name": "stdout",
     "output_type": "stream",
     "text": [
      "\n",
      "\n",
      "Train shape: (19610, 3)\n",
      "\n",
      "valid shape: (6534, 3)\n",
      "\n",
      "Test shape: (6540, 3)\n",
      "\n"
     ]
    },
    {
     "data": {
      "text/html": [
       "<div>\n",
       "<style scoped>\n",
       "    .dataframe tbody tr th:only-of-type {\n",
       "        vertical-align: middle;\n",
       "    }\n",
       "\n",
       "    .dataframe tbody tr th {\n",
       "        vertical-align: top;\n",
       "    }\n",
       "\n",
       "    .dataframe thead th {\n",
       "        text-align: right;\n",
       "    }\n",
       "</style>\n",
       "<table border=\"1\" class=\"dataframe\">\n",
       "  <thead>\n",
       "    <tr style=\"text-align: right;\">\n",
       "      <th></th>\n",
       "      <th>name</th>\n",
       "      <th>label</th>\n",
       "      <th>classes</th>\n",
       "    </tr>\n",
       "  </thead>\n",
       "  <tbody>\n",
       "    <tr>\n",
       "      <th>6615</th>\n",
       "      <td>Normal-3934.png</td>\n",
       "      <td>2.0</td>\n",
       "      <td>Normal</td>\n",
       "    </tr>\n",
       "    <tr>\n",
       "      <th>18371</th>\n",
       "      <td>CXR847_IM-2369-1001.png</td>\n",
       "      <td>4.0</td>\n",
       "      <td>Tuberculosis</td>\n",
       "    </tr>\n",
       "    <tr>\n",
       "      <th>4697</th>\n",
       "      <td>Lung_Opacity-2832.png</td>\n",
       "      <td>1.0</td>\n",
       "      <td>Lung-Opacity</td>\n",
       "    </tr>\n",
       "    <tr>\n",
       "      <th>19170</th>\n",
       "      <td>CXR954_IM-2448-12001.png</td>\n",
       "      <td>4.0</td>\n",
       "      <td>Tuberculosis</td>\n",
       "    </tr>\n",
       "    <tr>\n",
       "      <th>18091</th>\n",
       "      <td>CHNCXR_0556_1.png</td>\n",
       "      <td>4.0</td>\n",
       "      <td>Tuberculosis</td>\n",
       "    </tr>\n",
       "  </tbody>\n",
       "</table>\n",
       "</div>"
      ],
      "text/plain": [
       "                           name  label       classes\n",
       "6615            Normal-3934.png    2.0        Normal\n",
       "18371   CXR847_IM-2369-1001.png    4.0  Tuberculosis\n",
       "4697      Lung_Opacity-2832.png    1.0  Lung-Opacity\n",
       "19170  CXR954_IM-2448-12001.png    4.0  Tuberculosis\n",
       "18091         CHNCXR_0556_1.png    4.0  Tuberculosis"
      ]
     },
     "execution_count": 10,
     "metadata": {},
     "output_type": "execute_result"
    }
   ],
   "source": [
    "from sklearn.utils import shuffle\n",
    "\n",
    "train_df = shuffle(to_dataframe(train))\n",
    "\n",
    "valid_df = shuffle(to_dataframe(val))\n",
    "\n",
    "test_df = shuffle(to_dataframe(test))\n",
    "\n",
    "print(f\"\"\"\n",
    "\n",
    "Train shape: {train_df.shape}\n",
    "\n",
    "valid shape: {valid_df.shape}\n",
    "\n",
    "Test shape: {test_df.shape}\n",
    "\"\"\")\n",
    "train_df.head()"
   ]
  },
  {
   "cell_type": "markdown",
   "id": "6f2760eb",
   "metadata": {},
   "source": [
    " #### Generamos diccionarios que contengan la distribucion de clase para cada conjunto de datos."
   ]
  },
  {
   "cell_type": "code",
   "execution_count": 11,
   "id": "aefe9290",
   "metadata": {},
   "outputs": [],
   "source": [
    "train_class_dist : Dict = dict(train_df[\"label\"].value_counts())\n",
    "\n",
    "valid_class_dist : Dict = dict(valid_df[\"label\"].value_counts())\n",
    "\n",
    "test_class_dist : Dict = dict(test_df[\"label\"].value_counts())"
   ]
  },
  {
   "cell_type": "markdown",
   "id": "296e7b69",
   "metadata": {},
   "source": [
    "#### Graficamos la distribucion de clase para cada conjunto de datos."
   ]
  },
  {
   "cell_type": "code",
   "execution_count": 13,
   "id": "17fe142c",
   "metadata": {},
   "outputs": [
    {
     "data": {
      "image/png": "[encoded data removed]",
      "text/plain": [
       "<Figure size 1200x600 with 1 Axes>"
      ]
     },
     "metadata": {},
     "output_type": "display_data"
    }
   ],
   "source": [
    "plt.rcParams[\"figure.figsize\"] = (12,6)\n",
    "\n",
    "barwidth = 0.25\n",
    " \n",
    "data : List = [train_class_dist.values(),\n",
    "                valid_class_dist.values(),\n",
    "                test_class_dist.values()]\n",
    "\n",
    "fbar : List = np.arange(len(train_class_dist.values()))\n",
    "\n",
    "sbar : List = [x + barwidth for x in fbar]\n",
    "\n",
    "lbar : List = [x + barwidth for x in sbar]\n",
    "    \n",
    "bars : List = [fbar,sbar,lbar]\n",
    "\n",
    "labels : List = [\"train\",\"valid\",\"test\"]\n",
    "\n",
    "for bar, values, label in zip(bars,data,labels):\n",
    "\n",
    "    plt.bar(bar, values,\n",
    "            width = barwidth,\n",
    "            edgecolor ='black',\n",
    "            linewidth = 2,\n",
    "            label = label)\n",
    "\n",
    "plt.title('CLASS SET DISTRIBUTION', fontweight ='bold', fontsize = 11)\n",
    "\n",
    "plt.xlabel('CLASSES', fontweight ='bold', fontsize = 11)\n",
    "\n",
    "plt.ylabel('COUNTS', fontweight ='bold', fontsize = 11)\n",
    "\n",
    "plt.xticks([r + barwidth for r in range(len(data[0]))],train_class_dist.keys())\n",
    " \n",
    "plt.legend()\n",
    "plt.show()"
   ]
  },
  {
   "cell_type": "markdown",
   "id": "e4af7ee9",
   "metadata": {},
   "source": [
    "#### Creamos un generador  para cada set de datos, en donde para el set de train, aplicamos unas tranformaciones a las imagenes para tener mas data de entrenamiento y mayor distribucion (data augmentation). ademas se definen las diemnsiones de las imagenes y el batch size."
   ]
  },
  {
   "cell_type": "code",
   "execution_count": 15,
   "id": "729e745b",
   "metadata": {},
   "outputs": [],
   "source": [
    "from tensorflow.keras import layers\n",
    "from tensorflow.keras.preprocessing.image import ImageDataGenerator\n",
    "\n",
    "IMG_WIDTH : int = 224\n",
    "    \n",
    "IMG_HEIGHT : int = 224 \n",
    "\n",
    "BATCH_SIZE : int = 16\n",
    "\n",
    "train_gen = ImageDataGenerator(rotation_range = 8.5,\n",
    "                               width_shift_range = 0.1,\n",
    "                               height_shift_range = 0.3,\n",
    "                               zoom_range = 0.1,\n",
    "                               horizontal_flip = True)\n",
    "\n",
    "validation_gen = ImageDataGenerator()\n",
    "\n",
    "test_gen = ImageDataGenerator()"
   ]
  },
  {
   "cell_type": "markdown",
   "id": "fac1d90a",
   "metadata": {},
   "source": [
    "#### Leemos el dataset de imagenes previamente creado, definimos el tipo de clasificacion y aplicamos un shuffle a las imagenes."
   ]
  },
  {
   "cell_type": "code",
   "execution_count": 16,
   "id": "a7c643ba",
   "metadata": {},
   "outputs": [
    {
     "name": "stdout",
     "output_type": "stream",
     "text": [
      "Found 19461 images belonging to 5 classes.\n",
      "Found 6474 images belonging to 5 classes.\n",
      "Found 6472 images belonging to 5 classes.\n"
     ]
    }
   ],
   "source": [
    "paths = [r\"D:\\Dataset\\training\",\n",
    "         r\"D:\\Dataset\\validation\",\n",
    "         r\"D:\\Dataset\\test\"]\n",
    "\n",
    "train_set = train_gen.flow_from_directory(directory = paths[0],\n",
    "                                         target_size = (IMG_WIDTH ,IMG_HEIGHT),\n",
    "                                         batch_size = BATCH_SIZE,\n",
    "                                         class_mode = 'categorical',\n",
    "                                         shuffle = True)\n",
    "\n",
    "validation_set = validation_gen.flow_from_directory(directory = paths[1],\n",
    "                                                   target_size = (IMG_WIDTH ,IMG_HEIGHT),\n",
    "                                                   batch_size = BATCH_SIZE,\n",
    "                                                   class_mode = 'categorical',\n",
    "                                                   shuffle = True)\n",
    "\n",
    "\n",
    "\n",
    "test_set = test_gen.flow_from_directory(directory = paths[2],\n",
    "                                        target_size = (IMG_WIDTH ,IMG_HEIGHT),\n",
    "                                        batch_size = BATCH_SIZE,\n",
    "                                        class_mode = 'categorical')"
   ]
  },
  {
   "cell_type": "markdown",
   "id": "f2a29838",
   "metadata": {},
   "source": [
    "#### Visualizamos las dimensiones del lote."
   ]
  },
  {
   "cell_type": "code",
   "execution_count": 17,
   "id": "1c0d7a90",
   "metadata": {},
   "outputs": [
    {
     "data": {
      "text/plain": [
       "(16, 224, 224, 3)"
      ]
     },
     "execution_count": 17,
     "metadata": {},
     "output_type": "execute_result"
    }
   ],
   "source": [
    "image = next(train_set)[0][0:]\n",
    "image.shape"
   ]
  },
  {
   "cell_type": "markdown",
   "id": "14e97005",
   "metadata": {},
   "source": [
    "#### Visualizamos datos tomados aleatoriamente del primer lote."
   ]
  },
  {
   "cell_type": "code",
   "execution_count": 18,
   "id": "24839121",
   "metadata": {},
   "outputs": [
    {
     "data": {
      "image/png": "[encoded data removed]",
      "text/plain": [
       "<Figure size 1000x500 with 16 Axes>"
      ]
     },
     "metadata": {},
     "output_type": "display_data"
    }
   ],
   "source": [
    "from random import randint\n",
    "\n",
    "rows : int = 4\n",
    "cols : int = 4\n",
    "\n",
    "fig, ax = plt.subplots(nrows = rows, ncols = cols,figsize = (10,5))\n",
    "\n",
    "for i in range(rows):\n",
    "    \n",
    "    for j in range(cols):\n",
    "\n",
    "        image = next(train_set)[0][randint(0,BATCH_SIZE - 1)]\n",
    "\n",
    "        ax[i,j].imshow(image / 255)\n",
    "        ax[i,j].axis(\"off\")"
   ]
  },
  {
   "cell_type": "markdown",
   "id": "6ac967c2",
   "metadata": {},
   "source": [
    "<h1 style = \"color : darkcyan; text-align:left;\">\n",
    "   3) Arquitectura, pipeline y entrenamiento\n",
    "<h1/>"
   ]
  },
  {
   "cell_type": "markdown",
   "id": "85c9bf4a",
   "metadata": {},
   "source": [
    "#### Importamos el modelo VGG16, modelo el cual fue entrenado con el dataset imagenet, en donde para nuestro modelo, se creara una arquitectura hibrida, que comprende una etapa de transfer learning (pesos del VGG16) y una arquitecura de salida concatenada a las primeras capas de bajo nivel del  VGG16 de manera que se consiga hacer un ajuste fino del modelo. Esta arquitectura sera definida de forma arbitraria y se creara un pool de modelos para analizar su performance de manera independiente y tomar uno de estos como modelo final para nuestro proyecto.\n",
    "#### Se observa que no considera las ultimas capas del modelo, para las demas conservamos los pesos del imagenet, definimos el shape de entrada (dimensiones de las imagenes), las clases de nuestro dataset y finalmente se imprime un summary del modelo VGG16."
   ]
  },
  {
   "cell_type": "markdown",
   "id": "3c72d618",
   "metadata": {},
   "source": [
    "#### Se crea una funcion que servira para neustro pool de modelos en donde podemos modificar el arch split (corte de la arquitectura) del modelo VGG16, definiendo asi, que partes del modelo seran entrenables y cuales no."
   ]
  },
  {
   "cell_type": "code",
   "execution_count": 124,
   "id": "7fb050d0",
   "metadata": {
    "scrolled": true
   },
   "outputs": [],
   "source": [
    "from tensorflow.keras.applications import VGG16\n",
    "from tensorflow.keras.regularizers import l2\n",
    "\n",
    "def vgg_16_cut(trainig_layers : int):\n",
    "    \n",
    "    vgg_model = VGG16(include_top = False,\n",
    "                      weights = \"imagenet\",\n",
    "                      input_shape = (224,224,3),\n",
    "                      classes = len(classes))\n",
    "    \n",
    "    model_deep = len(vgg_model.layers)\n",
    "    \n",
    "    model_split = model_deep - trainig_layers\n",
    "\n",
    "    for layer in vgg_model.layers[:model_split]:\n",
    "        \n",
    "        layer.trainable = False\n",
    "\n",
    "    for i, layer in enumerate(vgg_model.layers):\n",
    "        \n",
    "        print(i, layer.name, layer.trainable)\n",
    "\n",
    "    return vgg_model\n",
    "\n",
    "    \n",
    "def base_pipeline(vggmod, input_matrix):\n",
    "\n",
    "    normalizer  = layers.Rescaling(1./255) (input_matrix)\n",
    "\n",
    "    output = vggmod(normalizer)\n",
    "    \n",
    "    return output\n",
    "\n",
    "def fine_tunning_arch(vgg_output, arch):\n",
    "    \n",
    "    output = vgg_output\n",
    "        \n",
    "    for layer in arch:\n",
    "        \n",
    "        output = layer(output)\n",
    "        \n",
    "    return output"
   ]
  },
  {
   "cell_type": "markdown",
   "id": "699c6e76",
   "metadata": {},
   "source": [
    "#### Se crean 3 arquitecturas de salida para los distintos cortes del VGG16"
   ]
  },
  {
   "cell_type": "code",
   "execution_count": 125,
   "id": "f3b0a82f",
   "metadata": {},
   "outputs": [],
   "source": [
    "from tensorflow.keras import backend as K\n",
    "from tensorflow.keras.layers import Dense, Flatten, Dropout, BatchNormalization, Conv2D, MaxPool2D\n",
    "\n",
    "arch1 : List = [Flatten(),\n",
    "                \n",
    "               Dense(units = 256,\n",
    "                     activation = \"relu\"),\n",
    "                \n",
    "               Dropout(0.5),\n",
    "                \n",
    "               Dense(units = 128,\n",
    "                     activation = \"relu\"),\n",
    "                \n",
    "               BatchNormalization(),\n",
    "                \n",
    "               Dropout(0.4),\n",
    "               \n",
    "               Dense(units = len(classes),\n",
    "                     activation = \"softmax\",\n",
    "                     kernel_regularizer = l2(l2 = 0.001))]\n",
    "    \n",
    "arch2 : List = [Flatten(),\n",
    "                \n",
    "                Dropout(0.3),\n",
    "                \n",
    "                Conv2D(filters = 32,\n",
    "                       kernel_size = (5,5),\n",
    "                       strides = (1, 1),\n",
    "                       padding = 'same',\n",
    "                       activation = \"relu\"),\n",
    "                \n",
    "                BatchNormalization(),\n",
    "                \n",
    "                MaxPool2D(pool_size = (2, 2),\n",
    "                          strides = (1,1),\n",
    "                          padding = 'valid'),\n",
    "                \n",
    "                Dense(units = 128,\n",
    "                      activation = lambda x: K.sin(x) * x ,\n",
    "                      kernel_regularizer = l2(l2 = 0.01)),\n",
    "                \n",
    "                Dropout(0.3),\n",
    "               \n",
    "                Dense(units = len(classes),\n",
    "                      activation = \"softmax\",\n",
    "                      kernel_regularizer = l2(l2 = 0.001))]\n",
    "    \n",
    "    \n",
    "arch3 : List = [Flatten(),\n",
    "                \n",
    "                BatchNormalization(),\n",
    "                \n",
    "                Dense(units = 128,\n",
    "                      activation = \"selu\"),\n",
    "                \n",
    "                Dropout(0.3),\n",
    "               \n",
    "                Dense(units = len(classes),\n",
    "                      activation = \"softmax\",\n",
    "                      kernel_regularizer = l2(l2 = 0.001))]"
   ]
  },
  {
   "cell_type": "markdown",
   "id": "7927313e",
   "metadata": {},
   "source": [
    "#### Se crea una funcion que genere los pipelines de los modelos en funcion de las arquitecturas definidas y los splits del VGG16"
   ]
  },
  {
   "cell_type": "code",
   "execution_count": 29,
   "id": "52639618",
   "metadata": {},
   "outputs": [],
   "source": [
    "def model_pipeline(t_layer, arch, name):\n",
    "\n",
    "    inputs = layers.Input(shape = (224,224, 3))\n",
    "\n",
    "    vgg = vgg_16_cut(trainig_layers = t_layer)\n",
    "\n",
    "    mod = base_pipeline(vgg, inputs)\n",
    "\n",
    "    outputs = fine_tunning_arch(mod, arch = arch)\n",
    "\n",
    "    model = tf.keras.Model(inputs = inputs,\n",
    "                           outputs = outputs,\n",
    "                           name = name)\n",
    "    return model"
   ]
  },
  {
   "cell_type": "markdown",
   "id": "def684cc",
   "metadata": {},
   "source": [
    "#### Creamos 3 modelos a entrenar"
   ]
  },
  {
   "cell_type": "code",
   "execution_count": 132,
   "id": "63286399",
   "metadata": {},
   "outputs": [
    {
     "name": "stdout",
     "output_type": "stream",
     "text": [
      "0 input_26 False\n",
      "1 block1_conv1 False\n",
      "2 block1_conv2 False\n",
      "3 block1_pool False\n",
      "4 block2_conv1 False\n",
      "5 block2_conv2 False\n",
      "6 block2_pool False\n",
      "7 block3_conv1 False\n",
      "8 block3_conv2 False\n",
      "9 block3_conv3 False\n",
      "10 block3_pool False\n",
      "11 block4_conv1 False\n",
      "12 block4_conv2 False\n",
      "13 block4_conv3 False\n",
      "14 block4_pool True\n",
      "15 block5_conv1 True\n",
      "16 block5_conv2 True\n",
      "17 block5_conv3 True\n",
      "18 block5_pool True\n"
     ]
    }
   ],
   "source": [
    "model1 = model_pipeline(t_layer = 5,\n",
    "                        arch = arch1,\n",
    "                        name = \"model_arch_1\")"
   ]
  },
  {
   "cell_type": "code",
   "execution_count": 133,
   "id": "3a80e3cb",
   "metadata": {},
   "outputs": [
    {
     "name": "stdout",
     "output_type": "stream",
     "text": [
      "0 input_28 False\n",
      "1 block1_conv1 False\n",
      "2 block1_conv2 False\n",
      "3 block1_pool False\n",
      "4 block2_conv1 False\n",
      "5 block2_conv2 False\n",
      "6 block2_pool False\n",
      "7 block3_conv1 False\n",
      "8 block3_conv2 False\n",
      "9 block3_conv3 False\n",
      "10 block3_pool False\n",
      "11 block4_conv1 False\n",
      "12 block4_conv2 False\n",
      "13 block4_conv3 False\n",
      "14 block4_pool False\n",
      "15 block5_conv1 False\n",
      "16 block5_conv2 False\n",
      "17 block5_conv3 True\n",
      "18 block5_pool True\n"
     ]
    }
   ],
   "source": [
    "model2 = model_pipeline(t_layer = 2,\n",
    "                        arch = arch1,\n",
    "                        name = \"model_arch_2\")"
   ]
  },
  {
   "cell_type": "code",
   "execution_count": 134,
   "id": "b6f23d25",
   "metadata": {},
   "outputs": [
    {
     "name": "stdout",
     "output_type": "stream",
     "text": [
      "0 input_30 False\n",
      "1 block1_conv1 False\n",
      "2 block1_conv2 False\n",
      "3 block1_pool False\n",
      "4 block2_conv1 False\n",
      "5 block2_conv2 False\n",
      "6 block2_pool False\n",
      "7 block3_conv1 False\n",
      "8 block3_conv2 False\n",
      "9 block3_conv3 False\n",
      "10 block3_pool False\n",
      "11 block4_conv1 False\n",
      "12 block4_conv2 True\n",
      "13 block4_conv3 True\n",
      "14 block4_pool True\n",
      "15 block5_conv1 True\n",
      "16 block5_conv2 True\n",
      "17 block5_conv3 True\n",
      "18 block5_pool True\n"
     ]
    }
   ],
   "source": [
    "model3 = model_pipeline(t_layer = 7,\n",
    "                        arch = arch1,\n",
    "                        name = \"model_arch_3\")"
   ]
  },
  {
   "cell_type": "markdown",
   "id": "8709cdf3",
   "metadata": {},
   "source": [
    "#### Creamos una funcion que entrene los modelos de manera iterativa insertando optimizador, metricas y callbacks"
   ]
  },
  {
   "cell_type": "code",
   "execution_count": 135,
   "id": "9458721a",
   "metadata": {},
   "outputs": [],
   "source": [
    "from tensorflow.keras.losses import CategoricalCrossentropy \n",
    "from tensorflow.keras.optimizers import Adam\n",
    "from tensorflow.keras.metrics import CategoricalAccuracy, Recall\n",
    "from tensorflow.keras.callbacks import ReduceLROnPlateau\n",
    "from tensorflow.keras.callbacks import TensorBoard\n",
    "from tensorflow.keras.callbacks import EarlyStopping\n",
    "\n",
    "def train_pool(archs, epochs):\n",
    "    \n",
    "    history_log : List = list()\n",
    "        \n",
    "    models : List = list()\n",
    "        \n",
    "    adam_optimizer = Adam(learning_rate = 0.001)\n",
    "    \n",
    "    lr_reduction = ReduceLROnPlateau(monitor = 'val_categorical_accuracy',\n",
    "                                     patience = 2,\n",
    "                                     verbose = 1,\n",
    "                                     factor = 0.6,\n",
    "                                     min_lr = 0.000001)\n",
    "    \n",
    "    \n",
    "    early_stop = EarlyStopping(monitor=\"val_loss\",\n",
    "                               patience = 7,\n",
    "                               verbose = 1,\n",
    "                               mode=\"auto\",\n",
    "                               restore_best_weights = True)\n",
    "\n",
    "    for i, model_arch in enumerate(archs):\n",
    "    \n",
    "        tensorboard_callback = TensorBoard(log_dir = f\"logs/model_arch_{i}\",\n",
    "                                           histogram_freq = 1)\n",
    "\n",
    "        model_arch.compile(loss = CategoricalCrossentropy(),\n",
    "                           optimizer = adam_optimizer, \n",
    "                           metrics = [CategoricalAccuracy(),\n",
    "                                      Recall()])\n",
    "        \n",
    "        history = model_arch.fit(x = train_set,\n",
    "                                 validation_data = validation_set,\n",
    "                                 epochs = epochs,\n",
    "                                 callbacks = [lr_reduction,\n",
    "                                              early_stop,\n",
    "                                              tensorboard_callback])\n",
    "        \n",
    "        history_log.append(history)\n",
    "        \n",
    "        models.append(model_arch)\n",
    "        \n",
    "    return history_log,  models"
   ]
  },
  {
   "cell_type": "markdown",
   "id": "33f155fb",
   "metadata": {},
   "source": [
    "#### Entrenamos el pool de modelos estableciendo 25 epocas por modelo"
   ]
  },
  {
   "cell_type": "code",
   "execution_count": 36,
   "id": "03e5855b",
   "metadata": {},
   "outputs": [
    {
     "name": "stdout",
     "output_type": "stream",
     "text": [
      "Epoch 1/25\n",
      "1217/1217 [==============================] - 745s 606ms/step - loss: 1.5228 - categorical_accuracy: 0.3970 - recall: 0.2327 - val_loss: 1.2660 - val_categorical_accuracy: 0.4774 - val_recall: 0.3244\n",
      "Epoch 2/25\n",
      "1217/1217 [==============================] - 236s 194ms/step - loss: 1.1028 - categorical_accuracy: 0.5814 - recall: 0.4231 - val_loss: 1.1918 - val_categorical_accuracy: 0.5850 - val_recall: 0.5201\n",
      "Epoch 3/25\n",
      "1217/1217 [==============================] - 158s 130ms/step - loss: 0.8875 - categorical_accuracy: 0.6688 - recall: 0.5455 - val_loss: 0.6330 - val_categorical_accuracy: 0.7821 - val_recall: 0.6671\n",
      "Epoch 4/25\n",
      "1217/1217 [==============================] - 158s 130ms/step - loss: 0.7447 - categorical_accuracy: 0.7336 - recall: 0.6516 - val_loss: 0.6431 - val_categorical_accuracy: 0.7686 - val_recall: 0.7022\n",
      "Epoch 5/25\n",
      "1217/1217 [==============================] - 158s 130ms/step - loss: 0.6530 - categorical_accuracy: 0.7762 - recall: 0.7093 - val_loss: 0.8835 - val_categorical_accuracy: 0.6724 - val_recall: 0.6335\n",
      "\n",
      "Epoch 00005: ReduceLROnPlateau reducing learning rate to 0.0006000000284984708.\n",
      "Epoch 6/25\n",
      "1217/1217 [==============================] - 159s 130ms/step - loss: 0.5985 - categorical_accuracy: 0.7932 - recall: 0.7380 - val_loss: 0.4795 - val_categorical_accuracy: 0.8293 - val_recall: 0.8094\n",
      "Epoch 7/25\n",
      "1217/1217 [==============================] - 159s 130ms/step - loss: 0.5599 - categorical_accuracy: 0.8110 - recall: 0.7628 - val_loss: 0.5151 - val_categorical_accuracy: 0.8233 - val_recall: 0.7878\n",
      "Epoch 8/25\n",
      "1217/1217 [==============================] - 159s 130ms/step - loss: 0.4985 - categorical_accuracy: 0.8339 - recall: 0.7933 - val_loss: 0.8059 - val_categorical_accuracy: 0.7269 - val_recall: 0.7040\n",
      "\n",
      "Epoch 00008: ReduceLROnPlateau reducing learning rate to 0.0003600000170990825.\n",
      "Epoch 9/25\n",
      "1217/1217 [==============================] - 159s 130ms/step - loss: 0.4476 - categorical_accuracy: 0.8513 - recall: 0.8183 - val_loss: 0.6637 - val_categorical_accuracy: 0.7816 - val_recall: 0.7573\n",
      "Epoch 10/25\n",
      "1217/1217 [==============================] - 159s 130ms/step - loss: 0.4186 - categorical_accuracy: 0.8644 - recall: 0.8361 - val_loss: 0.4674 - val_categorical_accuracy: 0.8369 - val_recall: 0.8224\n",
      "Epoch 11/25\n",
      "1217/1217 [==============================] - 159s 130ms/step - loss: 0.4095 - categorical_accuracy: 0.8666 - recall: 0.8403 - val_loss: 0.7402 - val_categorical_accuracy: 0.7589 - val_recall: 0.7356\n",
      "Epoch 12/25\n",
      "1217/1217 [==============================] - 159s 130ms/step - loss: 0.3938 - categorical_accuracy: 0.8710 - recall: 0.8445 - val_loss: 0.4661 - val_categorical_accuracy: 0.8441 - val_recall: 0.8270\n",
      "Epoch 13/25\n",
      "1217/1217 [==============================] - 159s 130ms/step - loss: 0.3815 - categorical_accuracy: 0.8786 - recall: 0.8543 - val_loss: 0.6524 - val_categorical_accuracy: 0.7912 - val_recall: 0.7796\n",
      "Epoch 14/25\n",
      "1217/1217 [==============================] - 159s 131ms/step - loss: 0.3726 - categorical_accuracy: 0.8793 - recall: 0.8560 - val_loss: 0.5174 - val_categorical_accuracy: 0.8265 - val_recall: 0.8134\n",
      "\n",
      "Epoch 00014: ReduceLROnPlateau reducing learning rate to 0.00021600000327453016.\n",
      "Epoch 15/25\n",
      "1217/1217 [==============================] - 158s 130ms/step - loss: 0.3304 - categorical_accuracy: 0.8969 - recall: 0.8768 - val_loss: 0.4879 - val_categorical_accuracy: 0.8446 - val_recall: 0.8343\n",
      "Epoch 16/25\n",
      "1217/1217 [==============================] - 159s 130ms/step - loss: 0.3287 - categorical_accuracy: 0.8965 - recall: 0.8784 - val_loss: 0.4735 - val_categorical_accuracy: 0.8511 - val_recall: 0.8415\n",
      "Epoch 17/25\n",
      "1217/1217 [==============================] - 159s 130ms/step - loss: 0.3154 - categorical_accuracy: 0.9004 - recall: 0.8819 - val_loss: 0.4171 - val_categorical_accuracy: 0.8687 - val_recall: 0.8580\n",
      "Epoch 18/25\n",
      "1217/1217 [==============================] - 161s 132ms/step - loss: 0.3198 - categorical_accuracy: 0.9004 - recall: 0.8826 - val_loss: 0.5642 - val_categorical_accuracy: 0.8196 - val_recall: 0.8102\n",
      "Epoch 19/25\n",
      "1217/1217 [==============================] - 159s 130ms/step - loss: 0.3014 - categorical_accuracy: 0.9031 - recall: 0.8880 - val_loss: 0.3919 - val_categorical_accuracy: 0.8733 - val_recall: 0.8639\n",
      "Epoch 20/25\n",
      "1217/1217 [==============================] - 159s 131ms/step - loss: 0.2954 - categorical_accuracy: 0.9058 - recall: 0.8901 - val_loss: 0.3278 - val_categorical_accuracy: 0.8964 - val_recall: 0.8889\n",
      "Epoch 21/25\n",
      "1217/1217 [==============================] - 159s 130ms/step - loss: 0.2942 - categorical_accuracy: 0.9096 - recall: 0.8937 - val_loss: 0.5742 - val_categorical_accuracy: 0.8242 - val_recall: 0.8111\n",
      "Epoch 22/25\n",
      "1217/1217 [==============================] - 159s 131ms/step - loss: 0.2791 - categorical_accuracy: 0.9127 - recall: 0.8984 - val_loss: 0.3285 - val_categorical_accuracy: 0.8902 - val_recall: 0.8832\n",
      "\n",
      "Epoch 00022: ReduceLROnPlateau reducing learning rate to 0.00012960000021848827.\n",
      "Epoch 23/25\n",
      "1217/1217 [==============================] - 159s 131ms/step - loss: 0.2614 - categorical_accuracy: 0.9170 - recall: 0.9048 - val_loss: 0.6516 - val_categorical_accuracy: 0.8058 - val_recall: 0.7970\n",
      "Epoch 24/25\n",
      "1217/1217 [==============================] - 159s 131ms/step - loss: 0.2576 - categorical_accuracy: 0.9210 - recall: 0.9077 - val_loss: 0.5690 - val_categorical_accuracy: 0.8306 - val_recall: 0.8184\n",
      "\n",
      "Epoch 00024: ReduceLROnPlateau reducing learning rate to 7.775999838486313e-05.\n",
      "Epoch 25/25\n",
      "1217/1217 [==============================] - 159s 130ms/step - loss: 0.2419 - categorical_accuracy: 0.9252 - recall: 0.9136 - val_loss: 0.5147 - val_categorical_accuracy: 0.8480 - val_recall: 0.8401\n",
      "Epoch 1/25\n",
      "1217/1217 [==============================] - 161s 131ms/step - loss: 1.3747 - categorical_accuracy: 0.4950 - recall_1: 0.3713 - val_loss: 1.5491 - val_categorical_accuracy: 0.4512 - val_recall_1: 0.4205\n",
      "Epoch 2/25\n",
      "1217/1217 [==============================] - 158s 130ms/step - loss: 0.9769 - categorical_accuracy: 0.6386 - recall_1: 0.5391 - val_loss: 0.9652 - val_categorical_accuracy: 0.6487 - val_recall_1: 0.5914\n",
      "Epoch 3/25\n",
      "1217/1217 [==============================] - 158s 130ms/step - loss: 0.8816 - categorical_accuracy: 0.6806 - recall_1: 0.5890 - val_loss: 0.7489 - val_categorical_accuracy: 0.7193 - val_recall_1: 0.6568\n",
      "Epoch 4/25\n",
      "1217/1217 [==============================] - 158s 130ms/step - loss: 0.7779 - categorical_accuracy: 0.7192 - recall_1: 0.6455 - val_loss: 0.6314 - val_categorical_accuracy: 0.7634 - val_recall_1: 0.7082\n",
      "Epoch 5/25\n",
      "1217/1217 [==============================] - 158s 130ms/step - loss: 0.7314 - categorical_accuracy: 0.7402 - recall_1: 0.6692 - val_loss: 0.6132 - val_categorical_accuracy: 0.7677 - val_recall_1: 0.7099\n",
      "Epoch 6/25\n",
      "1217/1217 [==============================] - 158s 130ms/step - loss: 0.6758 - categorical_accuracy: 0.7641 - recall_1: 0.7001 - val_loss: 0.7044 - val_categorical_accuracy: 0.7326 - val_recall_1: 0.7014\n",
      "Epoch 7/25\n",
      "1217/1217 [==============================] - 158s 130ms/step - loss: 0.6632 - categorical_accuracy: 0.7660 - recall_1: 0.7066 - val_loss: 0.5558 - val_categorical_accuracy: 0.7936 - val_recall_1: 0.7488\n",
      "Epoch 8/25\n",
      "1217/1217 [==============================] - 158s 130ms/step - loss: 0.6313 - categorical_accuracy: 0.7805 - recall_1: 0.7246 - val_loss: 0.5914 - val_categorical_accuracy: 0.7773 - val_recall_1: 0.7264\n",
      "Epoch 9/25\n",
      "1217/1217 [==============================] - 158s 130ms/step - loss: 0.6069 - categorical_accuracy: 0.7915 - recall_1: 0.7374 - val_loss: 0.6219 - val_categorical_accuracy: 0.7546 - val_recall_1: 0.7179\n",
      "\n",
      "Epoch 00009: ReduceLROnPlateau reducing learning rate to 4.6655999904032795e-05.\n",
      "Epoch 10/25\n",
      "1217/1217 [==============================] - 158s 130ms/step - loss: 0.5699 - categorical_accuracy: 0.8020 - recall_1: 0.7544 - val_loss: 0.6622 - val_categorical_accuracy: 0.7448 - val_recall_1: 0.7067\n",
      "Epoch 11/25\n",
      "1217/1217 [==============================] - 158s 130ms/step - loss: 0.5499 - categorical_accuracy: 0.8103 - recall_1: 0.7662 - val_loss: 0.4784 - val_categorical_accuracy: 0.8295 - val_recall_1: 0.7933\n",
      "Epoch 12/25\n"
     ]
    },
    {
     "name": "stdout",
     "output_type": "stream",
     "text": [
      "1217/1217 [==============================] - 158s 130ms/step - loss: 0.5384 - categorical_accuracy: 0.8164 - recall_1: 0.7712 - val_loss: 0.4236 - val_categorical_accuracy: 0.8412 - val_recall_1: 0.8204\n",
      "Epoch 13/25\n",
      "1217/1217 [==============================] - 177s 146ms/step - loss: 0.5300 - categorical_accuracy: 0.8186 - recall_1: 0.7784 - val_loss: 0.5851 - val_categorical_accuracy: 0.7766 - val_recall_1: 0.7529\n",
      "Epoch 14/25\n",
      "1217/1217 [==============================] - 190s 157ms/step - loss: 0.5187 - categorical_accuracy: 0.8229 - recall_1: 0.7827 - val_loss: 0.5493 - val_categorical_accuracy: 0.7915 - val_recall_1: 0.7668\n",
      "\n",
      "Epoch 00014: ReduceLROnPlateau reducing learning rate to 2.799360081553459e-05.\n",
      "Epoch 15/25\n",
      "1217/1217 [==============================] - 158s 130ms/step - loss: 0.4987 - categorical_accuracy: 0.8300 - recall_1: 0.7898 - val_loss: 0.4409 - val_categorical_accuracy: 0.8431 - val_recall_1: 0.8126\n",
      "Epoch 16/25\n",
      "1217/1217 [==============================] - 158s 130ms/step - loss: 0.4841 - categorical_accuracy: 0.8356 - recall_1: 0.7978 - val_loss: 0.4185 - val_categorical_accuracy: 0.8516 - val_recall_1: 0.8307\n",
      "Epoch 17/25\n",
      "1217/1217 [==============================] - 158s 130ms/step - loss: 0.4704 - categorical_accuracy: 0.8393 - recall_1: 0.8065 - val_loss: 0.5912 - val_categorical_accuracy: 0.7888 - val_recall_1: 0.7720\n",
      "Epoch 18/25\n",
      "1217/1217 [==============================] - 158s 130ms/step - loss: 0.4727 - categorical_accuracy: 0.8406 - recall_1: 0.8077 - val_loss: 0.3584 - val_categorical_accuracy: 0.8761 - val_recall_1: 0.8548\n",
      "Epoch 19/25\n",
      "1217/1217 [==============================] - 158s 130ms/step - loss: 0.4642 - categorical_accuracy: 0.8432 - recall_1: 0.8088 - val_loss: 0.6115 - val_categorical_accuracy: 0.7760 - val_recall_1: 0.7559\n",
      "Epoch 20/25\n",
      "1217/1217 [==============================] - 158s 130ms/step - loss: 0.4587 - categorical_accuracy: 0.8470 - recall_1: 0.8141 - val_loss: 0.3991 - val_categorical_accuracy: 0.8577 - val_recall_1: 0.8380\n",
      "\n",
      "Epoch 00020: ReduceLROnPlateau reducing learning rate to 1.6796160707599483e-05.\n",
      "Epoch 21/25\n",
      "1217/1217 [==============================] - 159s 130ms/step - loss: 0.4468 - categorical_accuracy: 0.8492 - recall_1: 0.8170 - val_loss: 0.3847 - val_categorical_accuracy: 0.8618 - val_recall_1: 0.8424\n",
      "Epoch 22/25\n",
      "1217/1217 [==============================] - 159s 131ms/step - loss: 0.4403 - categorical_accuracy: 0.8535 - recall_1: 0.8239 - val_loss: 0.4716 - val_categorical_accuracy: 0.8296 - val_recall_1: 0.8023\n",
      "\n",
      "Epoch 00022: ReduceLROnPlateau reducing learning rate to 1.007769642455969e-05.\n",
      "Epoch 23/25\n",
      "1217/1217 [==============================] - 159s 130ms/step - loss: 0.4265 - categorical_accuracy: 0.8576 - recall_1: 0.8301 - val_loss: 0.4579 - val_categorical_accuracy: 0.8357 - val_recall_1: 0.8136\n",
      "Epoch 24/25\n",
      "1217/1217 [==============================] - 159s 131ms/step - loss: 0.4287 - categorical_accuracy: 0.8546 - recall_1: 0.8265 - val_loss: 0.5006 - val_categorical_accuracy: 0.8179 - val_recall_1: 0.7983\n",
      "\n",
      "Epoch 00024: ReduceLROnPlateau reducing learning rate to 6.046617636457085e-06.\n",
      "Epoch 25/25\n",
      "1217/1217 [==============================] - 159s 131ms/step - loss: 0.4223 - categorical_accuracy: 0.8577 - recall_1: 0.8297 - val_loss: 0.4184 - val_categorical_accuracy: 0.8500 - val_recall_1: 0.8329\n",
      "Restoring model weights from the end of the best epoch.\n",
      "Epoch 00025: early stopping\n",
      "Epoch 1/25\n",
      "1217/1217 [==============================] - 162s 131ms/step - loss: 1.0782 - categorical_accuracy: 0.6039 - recall_2: 0.4982 - val_loss: 0.5918 - val_categorical_accuracy: 0.7868 - val_recall_2: 0.7407\n",
      "Epoch 2/25\n",
      "1217/1217 [==============================] - 158s 130ms/step - loss: 0.7275 - categorical_accuracy: 0.7417 - recall_2: 0.6854 - val_loss: 1.0600 - val_categorical_accuracy: 0.6245 - val_recall_2: 0.5902\n",
      "Epoch 3/25\n",
      "1217/1217 [==============================] - 158s 130ms/step - loss: 0.5894 - categorical_accuracy: 0.7983 - recall_2: 0.7591 - val_loss: 0.5559 - val_categorical_accuracy: 0.7956 - val_recall_2: 0.7542\n",
      "Epoch 4/25\n",
      "1217/1217 [==============================] - 159s 131ms/step - loss: 0.5091 - categorical_accuracy: 0.8263 - recall_2: 0.7871 - val_loss: 1.3037 - val_categorical_accuracy: 0.5392 - val_recall_2: 0.5176\n",
      "Epoch 5/25\n",
      "1217/1217 [==============================] - 159s 130ms/step - loss: 0.4867 - categorical_accuracy: 0.8348 - recall_2: 0.7989 - val_loss: 0.7838 - val_categorical_accuracy: 0.7146 - val_recall_2: 0.6895\n",
      "\n",
      "Epoch 00005: ReduceLROnPlateau reducing learning rate to 3.6279706364439334e-06.\n",
      "Epoch 6/25\n",
      "1217/1217 [==============================] - 159s 131ms/step - loss: 0.4202 - categorical_accuracy: 0.8603 - recall_2: 0.8286 - val_loss: 0.6923 - val_categorical_accuracy: 0.7436 - val_recall_2: 0.7200\n",
      "Epoch 7/25\n",
      "1217/1217 [==============================] - 160s 131ms/step - loss: 0.4043 - categorical_accuracy: 0.8685 - recall_2: 0.8385 - val_loss: 0.5076 - val_categorical_accuracy: 0.8162 - val_recall_2: 0.7969\n",
      "Epoch 8/25\n",
      "1217/1217 [==============================] - 158s 130ms/step - loss: 0.3901 - categorical_accuracy: 0.8715 - recall_2: 0.8415 - val_loss: 0.5008 - val_categorical_accuracy: 0.8133 - val_recall_2: 0.7913\n",
      "Epoch 9/25\n",
      "1217/1217 [==============================] - 159s 131ms/step - loss: 0.3787 - categorical_accuracy: 0.8781 - recall_2: 0.8531 - val_loss: 0.5684 - val_categorical_accuracy: 0.7966 - val_recall_2: 0.7614\n",
      "\n",
      "Epoch 00009: ReduceLROnPlateau reducing learning rate to 2.1767824364360423e-06.\n",
      "Epoch 10/25\n",
      "1217/1217 [==============================] - 159s 131ms/step - loss: 0.3447 - categorical_accuracy: 0.8883 - recall_2: 0.8645 - val_loss: 0.4616 - val_categorical_accuracy: 0.8295 - val_recall_2: 0.8114\n",
      "Epoch 11/25\n",
      "1217/1217 [==============================] - 159s 130ms/step - loss: 0.3361 - categorical_accuracy: 0.8932 - recall_2: 0.8680 - val_loss: 0.8164 - val_categorical_accuracy: 0.7088 - val_recall_2: 0.6875\n",
      "Epoch 12/25\n",
      "1217/1217 [==============================] - 160s 132ms/step - loss: 0.3306 - categorical_accuracy: 0.8944 - recall_2: 0.8713 - val_loss: 0.6270 - val_categorical_accuracy: 0.7737 - val_recall_2: 0.7583\n",
      "\n",
      "Epoch 00012: ReduceLROnPlateau reducing learning rate to 1.3060694072919432e-06.\n",
      "Epoch 13/25\n",
      "1217/1217 [==============================] - 160s 131ms/step - loss: 0.3151 - categorical_accuracy: 0.9044 - recall_2: 0.8826 - val_loss: 0.4600 - val_categorical_accuracy: 0.8341 - val_recall_2: 0.8106\n",
      "Epoch 14/25\n",
      "1217/1217 [==============================] - 162s 133ms/step - loss: 0.3087 - categorical_accuracy: 0.9055 - recall_2: 0.8829 - val_loss: 0.7262 - val_categorical_accuracy: 0.7345 - val_recall_2: 0.7115\n",
      "Epoch 15/25\n",
      "1217/1217 [==============================] - 160s 131ms/step - loss: 0.3021 - categorical_accuracy: 0.9064 - recall_2: 0.8853 - val_loss: 0.5234 - val_categorical_accuracy: 0.8095 - val_recall_2: 0.7867\n",
      "\n",
      "Epoch 00015: ReduceLROnPlateau reducing learning rate to 1e-06.\n",
      "Epoch 16/25\n",
      "1217/1217 [==============================] - 163s 134ms/step - loss: 0.2968 - categorical_accuracy: 0.9092 - recall_2: 0.8874 - val_loss: 0.8379 - val_categorical_accuracy: 0.7023 - val_recall_2: 0.6809\n",
      "Epoch 17/25\n",
      "1217/1217 [==============================] - 160s 131ms/step - loss: 0.2921 - categorical_accuracy: 0.9112 - recall_2: 0.8921 - val_loss: 0.5444 - val_categorical_accuracy: 0.8034 - val_recall_2: 0.7836\n",
      "Epoch 18/25\n",
      "1217/1217 [==============================] - 159s 130ms/step - loss: 0.2889 - categorical_accuracy: 0.9087 - recall_2: 0.8896 - val_loss: 0.6231 - val_categorical_accuracy: 0.7729 - val_recall_2: 0.7488\n",
      "Epoch 19/25\n",
      "1217/1217 [==============================] - 158s 130ms/step - loss: 0.2872 - categorical_accuracy: 0.9115 - recall_2: 0.8919 - val_loss: 0.5621 - val_categorical_accuracy: 0.8031 - val_recall_2: 0.7858\n",
      "Epoch 20/25\n",
      "1217/1217 [==============================] - 158s 130ms/step - loss: 0.2823 - categorical_accuracy: 0.9140 - recall_2: 0.8946 - val_loss: 0.5472 - val_categorical_accuracy: 0.8031 - val_recall_2: 0.7802\n",
      "Restoring model weights from the end of the best epoch.\n",
      "Epoch 00020: early stopping\n"
     ]
    }
   ],
   "source": [
    "history_logs, models = train_pool(archs = [model1,\n",
    "                                           model2,\n",
    "                                           model3],\n",
    "                                  epochs = 25)"
   ]
  },
  {
   "cell_type": "markdown",
   "id": "2fc379fb",
   "metadata": {},
   "source": [
    "#### Visualizamos con tensorboard el entrenamiento de los modelos y sus metricas"
   ]
  },
  {
   "cell_type": "code",
   "execution_count": 37,
   "id": "4eae2937",
   "metadata": {},
   "outputs": [
    {
     "data": {
      "text/html": [
       "\n",
       "      <iframe id=\"tensorboard-frame-f01829c8a7a1bced\" width=\"100%\" height=\"800\" frameborder=\"0\">\n",
       "      </iframe>\n",
       "      <script>\n",
       "        (function() {\n",
       "          const frame = document.getElementById(\"tensorboard-frame-f01829c8a7a1bced\");\n",
       "          const url = new URL(\"/\", window.location);\n",
       "          const port = 8065;\n",
       "          if (port) {\n",
       "            url.port = port;\n",
       "          }\n",
       "          frame.src = url;\n",
       "        })();\n",
       "      </script>\n",
       "    "
      ],
      "text/plain": [
       "<IPython.core.display.HTML object>"
      ]
     },
     "metadata": {},
     "output_type": "display_data"
    }
   ],
   "source": [
    "tensorboard --logdir=logs/ --host localhost --port 8065"
   ]
  },
  {
   "cell_type": "markdown",
   "id": "5902bfe1",
   "metadata": {},
   "source": [
    "#### Creamos funcion que toma el mayor accuracy generado por cada modelo y poder seleccionar el que tuvo mejor rendimiento"
   ]
  },
  {
   "cell_type": "code",
   "execution_count": 89,
   "id": "3d4d0f99",
   "metadata": {},
   "outputs": [],
   "source": [
    "def get_best_model(logs,models):\n",
    "    \n",
    "    perf_mod = dict()\n",
    "    \n",
    "    for k, log, model in zip(range(len(logs)),logs, models):\n",
    "        \n",
    "        values = log.history[\"val_categorical_accuracy\"]\n",
    "        \n",
    "        b_acc = np.argmax(values)\n",
    "        \n",
    "        perf_mod[model] = f\"{round(values[b_acc] * 100 ,3)}%\"\n",
    "        \n",
    "    return perf_mod"
   ]
  },
  {
   "cell_type": "code",
   "execution_count": 104,
   "id": "539e40cf",
   "metadata": {},
   "outputs": [
    {
     "data": {
      "text/plain": [
       "{<keras.engine.functional.Functional at 0x2a668512070>: '89.635%',\n",
       " <keras.engine.functional.Functional at 0x2a6685ced60>: '87.612%',\n",
       " <keras.engine.functional.Functional at 0x2a6686377c0>: '83.411%'}"
      ]
     },
     "execution_count": 104,
     "metadata": {},
     "output_type": "execute_result"
    }
   ],
   "source": [
    "models_perf = get_best_model(history_logs, models)\n",
    "\n",
    "models_perf"
   ]
  },
  {
   "cell_type": "markdown",
   "id": "6de8312c",
   "metadata": {},
   "source": [
    "#### Seleccionamos el model_arch_1 como arcquitectura final"
   ]
  },
  {
   "cell_type": "code",
   "execution_count": 105,
   "id": "e5523be3",
   "metadata": {},
   "outputs": [
    {
     "name": "stdout",
     "output_type": "stream",
     "text": [
      "Model: \"model_arch_1\"\n",
      "_________________________________________________________________\n",
      "Layer (type)                 Output Shape              Param #   \n",
      "=================================================================\n",
      "input_3 (InputLayer)         [(None, 224, 224, 3)]     0         \n",
      "_________________________________________________________________\n",
      "rescaling_1 (Rescaling)      (None, 224, 224, 3)       0         \n",
      "_________________________________________________________________\n",
      "vgg16 (Functional)           (None, 7, 7, 512)         14714688  \n",
      "_________________________________________________________________\n",
      "flatten (Flatten)            (None, 25088)             0         \n",
      "_________________________________________________________________\n",
      "dense (Dense)                (None, 256)               6422784   \n",
      "_________________________________________________________________\n",
      "dropout (Dropout)            (None, 256)               0         \n",
      "_________________________________________________________________\n",
      "dense_1 (Dense)              (None, 128)               32896     \n",
      "_________________________________________________________________\n",
      "batch_normalization (BatchNo (None, 128)               512       \n",
      "_________________________________________________________________\n",
      "dropout_1 (Dropout)          (None, 128)               0         \n",
      "_________________________________________________________________\n",
      "dense_2 (Dense)              (None, 5)                 645       \n",
      "=================================================================\n",
      "Total params: 21,171,525\n",
      "Trainable params: 13,536,005\n",
      "Non-trainable params: 7,635,520\n",
      "_________________________________________________________________\n"
     ]
    }
   ],
   "source": [
    "best_model = models[0]\n",
    "\n",
    "best_model.summary()"
   ]
  },
  {
   "cell_type": "markdown",
   "id": "29024fd9",
   "metadata": {},
   "source": [
    "#### Guardamos el modelo"
   ]
  },
  {
   "cell_type": "code",
   "execution_count": 119,
   "id": "785bca4b",
   "metadata": {},
   "outputs": [
    {
     "name": "stdout",
     "output_type": "stream",
     "text": [
      "INFO:tensorflow:Assets written to: Models\\model\\assets\n"
     ]
    }
   ],
   "source": [
    "best_model.save('Models\\model')"
   ]
  },
  {
   "cell_type": "markdown",
   "id": "bbcdce08",
   "metadata": {},
   "source": [
    "<h1 style = \"color : darkcyan; text-align:left;\">\n",
    "   4) Analisis de rednimiento del modelo\n",
    "<h1/>"
   ]
  },
  {
   "cell_type": "markdown",
   "id": "b1caf215",
   "metadata": {},
   "source": [
    "#### Creamos una funcion que tome las imagenes test y las ingrasamos al modelo para que haga inferencia y poder realizar un reporte de clasificacion y  matriz de confusion, ademas de retornar una lista con las clases correspondientes respectivamente"
   ]
  },
  {
   "cell_type": "code",
   "execution_count": 113,
   "id": "edfc3f30",
   "metadata": {},
   "outputs": [],
   "source": [
    "from tensorflow.keras.preprocessing import image\n",
    "\n",
    "def pred_vs_target(classes, model, set_path):\n",
    "    \n",
    "    y_true = list()\n",
    "    \n",
    "    preds = list()\n",
    "    \n",
    "    eval_set = pathlib.Path(set_path)\n",
    "\n",
    "    images = list(eval_set.glob('*/*'))\n",
    "    \n",
    "    pbar = pyprind.ProgBar(len(images))\n",
    "    \n",
    "    for img in images:\n",
    "\n",
    "        y_true.append(str(img).split(\"\\\\\")[3])\n",
    "        \n",
    "        img_load = image.load_img(img,target_size=(IMG_WIDTH, IMG_HEIGHT))\n",
    "\n",
    "        img_array = image.img_to_array(img_load)\n",
    "\n",
    "        img_batch = np.expand_dims(img_array, axis=0)\n",
    "\n",
    "        y_hat = model.predict(img_batch)\n",
    "\n",
    "        preds.append(classes[np.argmax(y_hat)])\n",
    "        \n",
    "        pbar.update()\n",
    "        \n",
    "    return y_true, preds"
   ]
  },
  {
   "cell_type": "code",
   "execution_count": 114,
   "id": "5e1dc1ec",
   "metadata": {},
   "outputs": [
    {
     "name": "stderr",
     "output_type": "stream",
     "text": [
      "0% [##############################] 100% | ETA: 00:00:00\n",
      "Total time elapsed: 00:08:13\n"
     ]
    }
   ],
   "source": [
    "y_true, y_hat = pred_vs_target(classes, best_model, paths[2])"
   ]
  },
  {
   "cell_type": "markdown",
   "id": "c032be3b",
   "metadata": {},
   "source": [
    "#### Generamos reporte de clasificacion"
   ]
  },
  {
   "cell_type": "code",
   "execution_count": 115,
   "id": "f5cc8757",
   "metadata": {},
   "outputs": [
    {
     "name": "stdout",
     "output_type": "stream",
     "text": [
      "                 precision    recall  f1-score   support\n",
      "\n",
      "       COVID-19       0.78      0.97      0.87       676\n",
      "   Lung-Opacity       0.80      0.93      0.86      1039\n",
      "         Normal       0.76      0.93      0.84      1670\n",
      "Viral Pneumonia       0.97      0.86      0.91      1664\n",
      "   Tuberculosis       0.95      0.61      0.74      1423\n",
      "\n",
      "       accuracy                           0.85      6472\n",
      "      macro avg       0.85      0.86      0.84      6472\n",
      "   weighted avg       0.87      0.85      0.84      6472\n",
      "\n"
     ]
    }
   ],
   "source": [
    "from sklearn.metrics import classification_report\n",
    "\n",
    "print(classification_report(y_hat,y_true,target_names = classes))"
   ]
  },
  {
   "cell_type": "markdown",
   "id": "2b1edb37",
   "metadata": {},
   "source": [
    "#### Generamos matriz de confusion"
   ]
  },
  {
   "cell_type": "code",
   "execution_count": 120,
   "id": "6366e35f",
   "metadata": {},
   "outputs": [
    {
     "data": {
      "image/png": "[encoded data removed]",
      "text/plain": [
       "<Figure size 1200x600 with 2 Axes>"
      ]
     },
     "metadata": {},
     "output_type": "display_data"
    }
   ],
   "source": [
    "from sklearn.metrics import ConfusionMatrixDisplay , confusion_matrix\n",
    "\n",
    "confm = confusion_matrix(y_true,y_hat)\n",
    "\n",
    "display_conf = ConfusionMatrixDisplay(confusion_matrix = confm,display_labels=classes)\n",
    "\n",
    "display_conf.plot(cmap=\"crest\")\n",
    "plt.title(\"Confusion matrix\",fontsize = 18)\n",
    "plt.xlabel(\"predicted label\",fontsize = 14)\n",
    "plt.ylabel(\"True label\",fontsize = 14)\n",
    "plt.show()"
   ]
  }
 ],
 "metadata": {
  "kernelspec": {
   "display_name": "ML",
   "language": "python",
   "name": "ml"
  },
  "language_info": {
   "codemirror_mode": {
    "name": "ipython",
    "version": 3
   },
   "file_extension": ".py",
   "mimetype": "text/x-python",
   "name": "python",
   "nbconvert_exporter": "python",
   "pygments_lexer": "ipython3",
   "version": "3.9.13"
  }
 },
 "nbformat": 4,
 "nbformat_minor": 5
}
